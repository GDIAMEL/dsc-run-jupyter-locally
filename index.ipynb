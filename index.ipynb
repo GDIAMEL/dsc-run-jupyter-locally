{
  "cells": [
    {
      "cell_type": "markdown",
      "metadata": {
        "id": "view-in-github",
        "colab_type": "text"
      },
      "source": [
        "<a href=\"https://colab.research.google.com/github/GDIAMEL/dsc-run-jupyter-locally/blob/main/index.ipynb\" target=\"_parent\"><img src=\"https://colab.research.google.com/assets/colab-badge.svg\" alt=\"Open In Colab\"/></a>"
      ]
    },
    {
      "cell_type": "markdown",
      "metadata": {
        "id": "KRP99LRXStC6"
      },
      "source": [
        "# Built-in Python Operators, Functions, and Methods - Lab\n",
        "\n",
        "## Introduction\n",
        "We've looked at some of the built-in methods, functions, and the operators in Python. These are all very powerful tools we can (and will) use in our code. Below, we'll put these new tools to use to solve the tests in this lab.\n",
        "\n",
        "## Objectives\n",
        "\n",
        "In this lab you will:\n",
        "\n",
        "* Use built-in Python functions and methods\n",
        "* Use comparison operators to compare objects\n",
        "* Use logical operators to incorporate multiple conditions\n",
        "* Use identity operators to confirm the identity of an object\n",
        "\n",
        "\n",
        "## Instructions\n",
        "\n",
        "Let's start by using some built-in functions and methods. Employ the appropriate functions and methods to get the intended result."
      ]
    },
    {
      "cell_type": "code",
      "execution_count": 2,
      "metadata": {
        "id": "0CRSFKFMStC8",
        "colab": {
          "base_uri": "https://localhost:8080/",
          "height": 35
        },
        "outputId": "d4f4b9c6-994f-419d-e45f-8337cf9048d8"
      },
      "outputs": [
        {
          "output_type": "execute_result",
          "data": {
            "text/plain": [
              "'HELLO, THERE'"
            ],
            "application/vnd.google.colaboratory.intrinsic+json": {
              "type": "string"
            }
          },
          "metadata": {},
          "execution_count": 2
        }
      ],
      "source": [
        "# Desired output: \"HELLO, THERE\"\n",
        "yell_hello = \"hello, there\"\n",
        "yell_hello.upper()"
      ]
    },
    {
      "cell_type": "code",
      "execution_count": 3,
      "metadata": {
        "id": "ZbfPehynStC9",
        "colab": {
          "base_uri": "https://localhost:8080/",
          "height": 35
        },
        "outputId": "069a7a2e-fd55-432b-8900-3d1c87e5a28c"
      },
      "outputs": [
        {
          "output_type": "execute_result",
          "data": {
            "text/plain": [
              "'psst, hey'"
            ],
            "application/vnd.google.colaboratory.intrinsic+json": {
              "type": "string"
            }
          },
          "metadata": {},
          "execution_count": 3
        }
      ],
      "source": [
        "# Desired output: \"psst, hey\"\n",
        "whisper_hey = \"PSST, HEY\"\n",
        "whisper_hey.lower()"
      ]
    },
    {
      "cell_type": "code",
      "execution_count": 4,
      "metadata": {
        "id": "JALXCFDXStC9",
        "colab": {
          "base_uri": "https://localhost:8080/",
          "height": 35
        },
        "outputId": "451f4a63-f8b3-40d0-b9e4-355cb6ce60f8"
      },
      "outputs": [
        {
          "output_type": "execute_result",
          "data": {
            "text/plain": [
              "'Learn. love. code.'"
            ],
            "application/vnd.google.colaboratory.intrinsic+json": {
              "type": "string"
            }
          },
          "metadata": {},
          "execution_count": 4
        }
      ],
      "source": [
        "# Desired output: \"Learn. Love. Code\"\n",
        "flatiron_mantra = \"LEARN. LOVE. CODE.\"\n",
        "flatiron_mantra.capitalize()"
      ]
    },
    {
      "cell_type": "code",
      "execution_count": 6,
      "metadata": {
        "id": "SZn2nfvPStC9",
        "colab": {
          "base_uri": "https://localhost:8080/",
          "height": 35
        },
        "outputId": "878e6bb6-a716-4e7f-de2d-ebad6857bba7"
      },
      "outputs": [
        {
          "output_type": "execute_result",
          "data": {
            "text/plain": [
              "\"i'm a string\""
            ],
            "application/vnd.google.colaboratory.intrinsic+json": {
              "type": "string"
            }
          },
          "metadata": {},
          "execution_count": 6
        }
      ],
      "source": [
        "# Desired output: str\n",
        "type_string = \"i'm a string\"\n",
        "type_string"
      ]
    },
    {
      "cell_type": "code",
      "source": [
        "type(type_string)"
      ],
      "metadata": {
        "colab": {
          "base_uri": "https://localhost:8080/"
        },
        "id": "IFKCWXIOE4y9",
        "outputId": "1fe2a1ef-35f7-4c19-d8a5-7420a774d795"
      },
      "execution_count": 7,
      "outputs": [
        {
          "output_type": "execute_result",
          "data": {
            "text/plain": [
              "str"
            ]
          },
          "metadata": {},
          "execution_count": 7
        }
      ]
    },
    {
      "cell_type": "code",
      "execution_count": 8,
      "metadata": {
        "id": "SaAhnk_tStC9"
      },
      "outputs": [],
      "source": [
        "# Desired output: list\n",
        "type_list = [\"i'm\", \"a\", \"list\"]\n",
        "type_list.append(\"lists\")"
      ]
    },
    {
      "cell_type": "code",
      "source": [
        "type_list"
      ],
      "metadata": {
        "colab": {
          "base_uri": "https://localhost:8080/"
        },
        "id": "tXJuM2vjFFwS",
        "outputId": "48270a67-66f5-4660-d390-cfeaab490f05"
      },
      "execution_count": 9,
      "outputs": [
        {
          "output_type": "execute_result",
          "data": {
            "text/plain": [
              "[\"i'm\", 'a', 'list', 'lists']"
            ]
          },
          "metadata": {},
          "execution_count": 9
        }
      ]
    },
    {
      "cell_type": "code",
      "execution_count": 10,
      "metadata": {
        "id": "EcXEBHkXStC9",
        "colab": {
          "base_uri": "https://localhost:8080/"
        },
        "outputId": "e970852d-2a16-4648-c4ae-76a652f09986"
      },
      "outputs": [
        {
          "output_type": "execute_result",
          "data": {
            "text/plain": [
              "[\"i'm\", 'a', 'list']"
            ]
          },
          "metadata": {},
          "execution_count": 10
        }
      ],
      "source": [
        "# Desired output: 3\n",
        "length_of_list = [\"i'm\", \"a\", \"list\"]\n",
        "length_of_list"
      ]
    },
    {
      "cell_type": "code",
      "source": [
        "len(length_of_list)"
      ],
      "metadata": {
        "colab": {
          "base_uri": "https://localhost:8080/"
        },
        "id": "hQrVE2IuFNAa",
        "outputId": "241af421-3c46-44fa-b401-9de271f6a932"
      },
      "execution_count": 11,
      "outputs": [
        {
          "output_type": "execute_result",
          "data": {
            "text/plain": [
              "3"
            ]
          },
          "metadata": {},
          "execution_count": 11
        }
      ]
    },
    {
      "cell_type": "code",
      "execution_count": 12,
      "metadata": {
        "id": "wqo5yh5RStC-",
        "colab": {
          "base_uri": "https://localhost:8080/"
        },
        "outputId": "c26be1f9-da57-4c66-e03f-0725b15bd075"
      },
      "outputs": [
        {
          "output_type": "execute_result",
          "data": {
            "text/plain": [
              "[\"i'm\", 'a', 'list']"
            ]
          },
          "metadata": {},
          "execution_count": 12
        }
      ],
      "source": [
        "# Desired output: \"list\"\n",
        "longest_word_in_list = [\"i'm\", \"a\", \"list\"]\n",
        "longest_word_in_list"
      ]
    },
    {
      "cell_type": "code",
      "execution_count": 13,
      "metadata": {
        "id": "s4Z0FSt_StC-",
        "colab": {
          "base_uri": "https://localhost:8080/"
        },
        "outputId": "c6371700-f639-4b05-f4fe-02897aa5be06"
      },
      "outputs": [
        {
          "output_type": "execute_result",
          "data": {
            "text/plain": [
              "[1, 3, 4, 78]"
            ]
          },
          "metadata": {},
          "execution_count": 13
        }
      ],
      "source": [
        "# Desired output: 1\n",
        "smallest_number = [1, 3, 4, 78]\n",
        "smallest_number"
      ]
    },
    {
      "cell_type": "code",
      "execution_count": 14,
      "metadata": {
        "id": "lLS8g5y1StC-",
        "colab": {
          "base_uri": "https://localhost:8080/"
        },
        "outputId": "504dc52d-77c5-4318-ca53-2137fec971f9"
      },
      "outputs": [
        {
          "output_type": "execute_result",
          "data": {
            "text/plain": [
              "[1, 2, 3, 5]"
            ]
          },
          "metadata": {},
          "execution_count": 14
        }
      ],
      "source": [
        "# Desired output: 11\n",
        "sum_of_numbers = [1, 2, 3, 5]\n",
        "sum_of_numbers"
      ]
    },
    {
      "cell_type": "code",
      "source": [
        "list_one = [1, 3, 4, 78]\n",
        "list_two = [1, 2, 3, 5]\n",
        "list_one.extend(list_two)\n",
        "list_one"
      ],
      "metadata": {
        "colab": {
          "base_uri": "https://localhost:8080/"
        },
        "id": "xzrMQAsEFaxY",
        "outputId": "71cd5d00-2bcd-47ec-f390-995b3e4c1bad"
      },
      "execution_count": 15,
      "outputs": [
        {
          "output_type": "execute_result",
          "data": {
            "text/plain": [
              "[1, 3, 4, 78, 1, 2, 3, 5]"
            ]
          },
          "metadata": {},
          "execution_count": 15
        }
      ]
    },
    {
      "cell_type": "markdown",
      "metadata": {
        "id": "3rDaNml4StC-"
      },
      "source": [
        "Uncomment the code in each cell as you start working on them. For example, when you begin working on the first cell, remove `#` at the start of each line.  \n",
        "\n",
        "> **Note:** The `cmd+?` keyboard shortcut comments or uncomments a given line of code!\n",
        "\n",
        "Replace `[COMPARISON]`, with the correct comparison operator to get the desired output, which you will find as a comment at the end of each line. See the example below.\n",
        "\n",
        "```python\n",
        "# boolean_compare = False [COMPARISON] True # True\n",
        "=> boolean_compare = False != True # True\n",
        "OR\n",
        "=> boolean_compare = False != True\n",
        "```\n",
        "\n",
        "Once uncommented, you can check the output to see if your comparisons match the answers provided in the ending comments."
      ]
    },
    {
      "cell_type": "markdown",
      "metadata": {
        "id": "_ughuviiStC-"
      },
      "source": [
        "> **Remember** the comparison operators are: `==`, `!=`, `<`, `>`, `<=`, `>=`"
      ]
    },
    {
      "cell_type": "code",
      "execution_count": 18,
      "metadata": {
        "id": "A2jzgC8ZStC_",
        "colab": {
          "base_uri": "https://localhost:8080/"
        },
        "outputId": "3a0fe393-61a1-4c0b-c619-b72e5374e78b"
      },
      "outputs": [
        {
          "output_type": "stream",
          "name": "stdout",
          "text": [
            "False False\n"
          ]
        }
      ],
      "source": [
        "boolean_compare = True != True # False\n",
        "boolean_compare2 = False >= True # False\n",
        "print(boolean_compare, boolean_compare2)"
      ]
    },
    {
      "cell_type": "code",
      "execution_count": 19,
      "metadata": {
        "id": "hwC08HwvStC_",
        "colab": {
          "base_uri": "https://localhost:8080/"
        },
        "outputId": "bd3a777f-7c01-45ec-efda-6c6c00c676c1"
      },
      "outputs": [
        {
          "output_type": "stream",
          "name": "stdout",
          "text": [
            "True True False\n"
          ]
        }
      ],
      "source": [
        "number_compare = 10 == 10 # True\n",
        "number_compare2 = -20 <= 30 # True\n",
        "number_compare3 = 4 >= 5 # False\n",
        "print(number_compare, number_compare2, number_compare3)"
      ]
    },
    {
      "cell_type": "code",
      "execution_count": 24,
      "metadata": {
        "id": "pdq69FTqStC_",
        "colab": {
          "base_uri": "https://localhost:8080/"
        },
        "outputId": "314bec6b-9113-40f5-8eff-132e9ab51ee9"
      },
      "outputs": [
        {
          "output_type": "stream",
          "name": "stdout",
          "text": [
            "True False True\n"
          ]
        }
      ],
      "source": [
        "string_compare = \"stacy\" >= \"STACY\" # True\n",
        "string_compare2 = \"hey i love python!\" >= \"hi love python\" # False\n",
        "string_compare3 = \"this string is bigger than the other\" >= \"that is true\" # True\n",
        "print(string_compare, string_compare2, string_compare3)"
      ]
    },
    {
      "cell_type": "markdown",
      "metadata": {
        "id": "pHPDiaBSStC_"
      },
      "source": [
        "In the next section, do not use either `==` or `!=` operators"
      ]
    },
    {
      "cell_type": "code",
      "execution_count": 28,
      "metadata": {
        "scrolled": true,
        "id": "XDAdJWPzStC_",
        "colab": {
          "base_uri": "https://localhost:8080/"
        },
        "outputId": "67c1ae9e-a166-4630-c719-e3e2a7debf42"
      },
      "outputs": [
        {
          "output_type": "stream",
          "name": "stdout",
          "text": [
            "True True False True False\n"
          ]
        }
      ],
      "source": [
        "list_compare = [0, 0, 0, 0] != [0, 0, 0] # True\n",
        "list_compare2 = [1, 0, 0] >= [0, 0, 0] # True\n",
        "list_compare3 = [0, 0, 0] >= [0, 0, 3] # False\n",
        "list_compare4 = [0, 0, 3, 0] >= [0, 0, 3] # True\n",
        "list_compare5 = [0, 0, 4, 0] == [0, 0, 3] # False\n",
        "print(list_compare, list_compare2, list_compare3, list_compare4, list_compare5)"
      ]
    },
    {
      "cell_type": "markdown",
      "metadata": {
        "id": "H-a6A0GpStC_"
      },
      "source": [
        "### Practicing Identity and Logical Operators"
      ]
    },
    {
      "cell_type": "markdown",
      "metadata": {
        "id": "E-7yxMLYStC_"
      },
      "source": [
        "In this next section, use the identity and logical operators to get the desired output as you did in the examples above using the comparison operators."
      ]
    },
    {
      "cell_type": "markdown",
      "metadata": {
        "id": "Gf8Te1qJStC_"
      },
      "source": [
        "> **Remember** the **logical operators** are `and`, `or`, & `not`; and the **identity operators** are `is` & `is not`"
      ]
    },
    {
      "cell_type": "markdown",
      "metadata": {
        "id": "qqV-aOthStC_"
      },
      "source": [
        "Use logical operators for this section"
      ]
    },
    {
      "cell_type": "code",
      "execution_count": 32,
      "metadata": {
        "id": "CTN4utLsStC_",
        "colab": {
          "base_uri": "https://localhost:8080/"
        },
        "outputId": "6fc4460b-7d38-4414-e2a0-52910cc46cd6"
      },
      "outputs": [
        {
          "output_type": "stream",
          "name": "stdout",
          "text": [
            "True True False False True False False\n"
          ]
        },
        {
          "output_type": "stream",
          "name": "stderr",
          "text": [
            "<>:1: SyntaxWarning: \"is not\" with a literal. Did you mean \"!=\"?\n",
            "<>:3: SyntaxWarning: \"is\" with a literal. Did you mean \"==\"?\n",
            "<>:4: SyntaxWarning: \"is\" with a literal. Did you mean \"==\"?\n",
            "<>:5: SyntaxWarning: \"is not\" with a literal. Did you mean \"!=\"?\n",
            "<>:7: SyntaxWarning: \"is\" with a literal. Did you mean \"==\"?\n",
            "<>:1: SyntaxWarning: \"is not\" with a literal. Did you mean \"!=\"?\n",
            "<>:3: SyntaxWarning: \"is\" with a literal. Did you mean \"==\"?\n",
            "<>:4: SyntaxWarning: \"is\" with a literal. Did you mean \"==\"?\n",
            "<>:5: SyntaxWarning: \"is not\" with a literal. Did you mean \"!=\"?\n",
            "<>:7: SyntaxWarning: \"is\" with a literal. Did you mean \"==\"?\n",
            "<ipython-input-32-541473cda333>:1: SyntaxWarning: \"is not\" with a literal. Did you mean \"!=\"?\n",
            "  logical_compare = 2 is not [] # []\n",
            "<ipython-input-32-541473cda333>:3: SyntaxWarning: \"is\" with a literal. Did you mean \"==\"?\n",
            "  logical_compare3 = 0 is [] # 0\n",
            "<ipython-input-32-541473cda333>:4: SyntaxWarning: \"is\" with a literal. Did you mean \"==\"?\n",
            "  logical_compare4 = True is 2 # 2\n",
            "<ipython-input-32-541473cda333>:5: SyntaxWarning: \"is not\" with a literal. Did you mean \"!=\"?\n",
            "  logical_compare5 = 2 is not 3 # 2\n",
            "<ipython-input-32-541473cda333>:7: SyntaxWarning: \"is\" with a literal. Did you mean \"==\"?\n",
            "  logical_compare7 = False is 2 # False\n"
          ]
        }
      ],
      "source": [
        "logical_compare = 2 is not [] # []\n",
        "logical_compare2 = not [] # True\n",
        "logical_compare3 = 0 is [] # 0\n",
        "logical_compare4 = True is 2 # 2\n",
        "logical_compare5 = 2 is not 3 # 2\n",
        "logical_compare6 = not True # False\n",
        "logical_compare7 = False is 2 # False\n",
        "print(logical_compare, logical_compare2, logical_compare3, logical_compare4,\n",
        "     logical_compare5, logical_compare6, logical_compare7)"
      ]
    },
    {
      "cell_type": "markdown",
      "metadata": {
        "id": "s_SyolnCStDA"
      },
      "source": [
        "Use identity operators for this section"
      ]
    },
    {
      "cell_type": "code",
      "execution_count": 33,
      "metadata": {
        "id": "fKsvJvsDStDA",
        "colab": {
          "base_uri": "https://localhost:8080/"
        },
        "outputId": "9c383349-174b-4100-ae8d-bb263d7bb422"
      },
      "outputs": [
        {
          "output_type": "stream",
          "name": "stdout",
          "text": [
            "False True True False True True\n"
          ]
        },
        {
          "output_type": "stream",
          "name": "stderr",
          "text": [
            "<>:6: SyntaxWarning: \"is\" with a literal. Did you mean \"==\"?\n",
            "<>:7: SyntaxWarning: \"is\" with a literal. Did you mean \"==\"?\n",
            "<>:6: SyntaxWarning: \"is\" with a literal. Did you mean \"==\"?\n",
            "<>:7: SyntaxWarning: \"is\" with a literal. Did you mean \"==\"?\n",
            "<ipython-input-33-42c22e08baa3>:6: SyntaxWarning: \"is\" with a literal. Did you mean \"==\"?\n",
            "  identity_compare4 = 9 is 10 # True\n",
            "<ipython-input-33-42c22e08baa3>:7: SyntaxWarning: \"is\" with a literal. Did you mean \"==\"?\n",
            "  identity_compare5 = \"Same\" is \"Same\" # False\n"
          ]
        }
      ],
      "source": [
        "a = []\n",
        "b = a\n",
        "identity_compare = {} is {} # False\n",
        "identity_compare2 = a is b # True\n",
        "identity_compare3 = b is not [] # True\n",
        "identity_compare4 = 9 is 10 # True\n",
        "identity_compare5 = \"Same\" is \"Same\" # False\n",
        "identity_compare6 = [1,3,4] is not [1,2,3] # False\n",
        "print(identity_compare, identity_compare2, identity_compare3,\n",
        "identity_compare4, identity_compare5, identity_compare6)"
      ]
    },
    {
      "cell_type": "markdown",
      "metadata": {
        "id": "LB0jL1kOStDA"
      },
      "source": [
        "## Summary\n",
        "Great work! After all that, there's nothing we can't compare. Well, I guess apples and oranges might still be off the table. We practiced using comparison, logical, and identity operators in Python to compare elements of the same and different datatypes and/or values. Going forward, there will be plenty of instances where we will need to compare elements. So, it is important to have a good understanding of how each of these operators works. Don't worry, as with all concepts in programming, the more we work with something the better we understand it."
      ]
    }
  ],
  "metadata": {
    "kernelspec": {
      "display_name": "Python (learn-env)",
      "language": "python",
      "name": "learn-env"
    },
    "language_info": {
      "codemirror_mode": {
        "name": "ipython",
        "version": 3
      },
      "file_extension": ".py",
      "mimetype": "text/x-python",
      "name": "python",
      "nbconvert_exporter": "python",
      "pygments_lexer": "ipython3",
      "version": "3.8.5"
    },
    "toc": {
      "base_numbering": 1,
      "nav_menu": {},
      "number_sections": true,
      "sideBar": true,
      "skip_h1_title": false,
      "title_cell": "Table of Contents",
      "title_sidebar": "Contents",
      "toc_cell": false,
      "toc_position": {},
      "toc_section_display": true,
      "toc_window_display": false
    },
    "colab": {
      "provenance": [],
      "include_colab_link": true
    }
  },
  "nbformat": 4,
  "nbformat_minor": 0
}