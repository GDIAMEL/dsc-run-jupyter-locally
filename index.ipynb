{
  "cells": [
    {
      "cell_type": "markdown",
      "metadata": {
        "id": "view-in-github",
        "colab_type": "text"
      },
      "source": [
        "<a href=\"https://colab.research.google.com/github/GDIAMEL/dsc-run-jupyter-locally/blob/main/index.ipynb\" target=\"_parent\"><img src=\"https://colab.research.google.com/assets/colab-badge.svg\" alt=\"Open In Colab\"/></a>"
      ]
    },
    {
      "cell_type": "markdown",
      "metadata": {
        "id": "-iQqBPthcDJo"
      },
      "source": [
        "# Getting Started with NumPy\n",
        "\n",
        "## Introduction\n",
        "\n",
        "NumPy is one of the main libraries for performing scientific computing in Python. Using NumPy, you can create high-performance multi-dimensional arrays, and several tools to work with these arrays.\n",
        "\n",
        "A NumPy array can store a grid of values. All the values must be of the same type. NumPy arrays are n-dimensional, and the number of dimensions is denoted by the *rank* of the NumPy array. The shape of an array is a tuple of integers which holds the size of the array along each of the dimensions.\n",
        "\n",
        "For more information on NumPy, refer to http://www.numpy.org/.\n",
        "\n",
        "\n",
        "## Objectives\n",
        "\n",
        "You will be able to:\n",
        "  \n",
        "- Use broadcasting to perform a math operation on an entire numpy array    \n",
        "- Perform vector and matrix operations with numpy\n",
        "- Access the shape of a numpy array    \n",
        "- Use indexing with numpy arrays    \n",
        "\n",
        "\n",
        "\n",
        "\n",
        "## NumPy array creation and basic operations\n",
        "\n",
        "First, remember that it is customary to import NumPy as `np`."
      ]
    },
    {
      "cell_type": "code",
      "execution_count": 1,
      "metadata": {
        "id": "VSmn9Xc-cDJq"
      },
      "outputs": [],
      "source": [
        "import numpy as np"
      ]
    },
    {
      "cell_type": "markdown",
      "metadata": {
        "id": "KN_CtiOdcDJr"
      },
      "source": [
        "One easy way to create a numpy array is from a Python list. The two are similar in a number of manners but NumPy is optimized in a number of ways for performing mathematical operations, including having a number of built-in methods that will be extraordinarily useful."
      ]
    },
    {
      "cell_type": "code",
      "execution_count": 2,
      "metadata": {
        "id": "jB7592-mcDJr",
        "outputId": "d92c5990-a027-4782-f092-15a6ae63c927",
        "colab": {
          "base_uri": "https://localhost:8080/"
        }
      },
      "outputs": [
        {
          "output_type": "stream",
          "name": "stdout",
          "text": [
            "<class 'numpy.ndarray'>\n"
          ]
        }
      ],
      "source": [
        "x = np.array([1, 2, 3])\n",
        "print(type(x))"
      ]
    },
    {
      "cell_type": "markdown",
      "metadata": {
        "id": "hKhBvW1McDJs"
      },
      "source": [
        "## Broadcasting Mathematical Operations\n",
        "\n",
        "Notice right off the bat how basic mathematical operations will be applied elementwise in a NumPy array versus a literal interpretation with a Python list:"
      ]
    },
    {
      "cell_type": "code",
      "execution_count": 3,
      "metadata": {
        "id": "U--c8B39cDJs",
        "outputId": "2c93cb88-4a31-4e11-a26e-0636c4c982f8",
        "colab": {
          "base_uri": "https://localhost:8080/"
        }
      },
      "outputs": [
        {
          "output_type": "execute_result",
          "data": {
            "text/plain": [
              "array([3, 6, 9])"
            ]
          },
          "metadata": {},
          "execution_count": 3
        }
      ],
      "source": [
        "# Multiplies each element by 3\n",
        "x * 3"
      ]
    },
    {
      "cell_type": "code",
      "execution_count": 4,
      "metadata": {
        "id": "DMI8NLgUcDJs",
        "outputId": "31615103-4983-4440-bae4-8e1098ea37ca",
        "colab": {
          "base_uri": "https://localhost:8080/"
        }
      },
      "outputs": [
        {
          "output_type": "execute_result",
          "data": {
            "text/plain": [
              "[1, 2, 3, 1, 2, 3, 1, 2, 3]"
            ]
          },
          "metadata": {},
          "execution_count": 4
        }
      ],
      "source": [
        "# Returns the list 3 times\n",
        "[1, 2, 3] * 3"
      ]
    },
    {
      "cell_type": "code",
      "execution_count": 5,
      "metadata": {
        "id": "1TMAM01OcDJs",
        "outputId": "646eb866-d15b-4947-a031-d8f9a8efcbea",
        "colab": {
          "base_uri": "https://localhost:8080/"
        }
      },
      "outputs": [
        {
          "output_type": "execute_result",
          "data": {
            "text/plain": [
              "array([3, 4, 5])"
            ]
          },
          "metadata": {},
          "execution_count": 5
        }
      ],
      "source": [
        "# Adds two to each element\n",
        "x + 2"
      ]
    },
    {
      "cell_type": "code",
      "execution_count": 7,
      "metadata": {
        "id": "FysyURPPcDJs",
        "outputId": "d40603c0-cb2f-455d-a18d-e342876ac779",
        "colab": {
          "base_uri": "https://localhost:8080/"
        }
      },
      "outputs": [
        {
          "output_type": "execute_result",
          "data": {
            "text/plain": [
              "array([3, 4, 5])"
            ]
          },
          "metadata": {},
          "execution_count": 7
        }
      ],
      "source": [
        "# Returns an error; different data types\n",
        "x + 2"
      ]
    },
    {
      "cell_type": "markdown",
      "metadata": {
        "id": "JQvcSU8OcDJt"
      },
      "source": [
        "## Even more math!"
      ]
    },
    {
      "cell_type": "markdown",
      "metadata": {
        "id": "DlCW7UH2cDJt"
      },
      "source": [
        "### Scalar Math\n",
        "\n",
        "|   |   |\n",
        "|---|---|\n",
        "|`np.add(arr,1)` | Add 1 to each array element  |\n",
        "|`np.subtract(arr,2)`  | Subtract 2 from each array element  |\n",
        "|`np.multiply(arr,3)`  | Multiply each array element by 3 |\n",
        "|`np.divide(arr,4)`    | Divide each array element by 4 (returns `np.nan` for division by zero) |\n",
        "|`np.power(arr,5)`     | Raise each array element to the 5th power |\n",
        "\n",
        "\n",
        "\n",
        "\n",
        "### Vector Math\n",
        "\n",
        "|   |   |\n",
        "|---|---|\n",
        "|`np.add(arr1,arr2)` | Elementwise add arr2 to arr1  |\n",
        "|`np.subtract(arr1,arr2)`  | Elementwise subtract arr2 from arr1  |\n",
        "|`np.multiply(arr1,arr2)`  | Elementwise multiply arr1 by arr2 |\n",
        "|`np.divide(arr1,arr2)`    | Elementwise divide arr1 by arr2 |\n",
        "|`np.power(arr1,arr2)`     | Elementwise raise arr1 raised to the power of arr2 |\n",
        "|`np.array_equal(arr1,arr2)`| Returns True if the arrays have the same elements and shape |\n",
        "|`np.sqrt(arr)`            |  Square root of each element in the array                    |\n",
        "|`np.sin(arr)`             |  Sine of each element in the array                           |\n",
        "|`np.log(arr)`             |  Natural log of each element in the array                    |\n",
        "|`np.abs(arr)`             |  Absolute value of each element in the array                 |\n",
        "|`np.ceil(arr)`            |  Rounds up to the nearest int                                |\n",
        "|`np.floor(arr)`           |  Rounds down to the nearest int                              |\n",
        "|`np.round(arr)`           |  Rounds to the nearest int                                   |"
      ]
    },
    {
      "cell_type": "markdown",
      "metadata": {
        "id": "oA-ySe3dcDJt"
      },
      "source": [
        "### Here's a few more examples from the list above"
      ]
    },
    {
      "cell_type": "code",
      "execution_count": 8,
      "metadata": {
        "id": "8MGsULUccDJt",
        "outputId": "a0621d95-ef60-4621-8b5e-2b94156ea245",
        "colab": {
          "base_uri": "https://localhost:8080/"
        }
      },
      "outputs": [
        {
          "output_type": "execute_result",
          "data": {
            "text/plain": [
              "[1, 2, 3, 4, 5, 6]"
            ]
          },
          "metadata": {},
          "execution_count": 8
        }
      ],
      "source": [
        "# Adding raw lists is just appending\n",
        "arr_one = [1, 2, 3]\n",
        "arr_two = [4, 5, 6]\n",
        "arr_one + arr_two"
      ]
    },
    {
      "cell_type": "code",
      "source": [
        "np.add(arr_one, arr_two)"
      ],
      "metadata": {
        "id": "hWdxl2Wh4diw",
        "outputId": "91c2d1c8-89c0-4f93-ae11-0c9da4569a7b",
        "colab": {
          "base_uri": "https://localhost:8080/"
        }
      },
      "execution_count": 10,
      "outputs": [
        {
          "output_type": "execute_result",
          "data": {
            "text/plain": [
              "array([5, 7, 9])"
            ]
          },
          "metadata": {},
          "execution_count": 10
        }
      ]
    },
    {
      "cell_type": "code",
      "execution_count": 9,
      "metadata": {
        "id": "50s3cjwccDJt",
        "outputId": "ed9d7729-b58f-42e4-8b48-fe2e3ff5c895",
        "colab": {
          "base_uri": "https://localhost:8080/"
        }
      },
      "outputs": [
        {
          "output_type": "execute_result",
          "data": {
            "text/plain": [
              "array([5, 7, 9])"
            ]
          },
          "metadata": {},
          "execution_count": 9
        }
      ],
      "source": [
        "# Adds elements\n",
        "np.array([1, 2, 3]) + np.array([4, 5, 6])"
      ]
    },
    {
      "cell_type": "code",
      "execution_count": 11,
      "metadata": {
        "id": "EEOi3_uJcDJt",
        "outputId": "ac920119-a7d3-4a45-d67d-cf6e4c332fe8",
        "colab": {
          "base_uri": "https://localhost:8080/"
        }
      },
      "outputs": [
        {
          "output_type": "execute_result",
          "data": {
            "text/plain": [
              "array([5, 7, 9])"
            ]
          },
          "metadata": {},
          "execution_count": 11
        }
      ],
      "source": [
        "# Same as above with built-in method\n",
        "x = np.array([1, 2, 3])\n",
        "y = np.array([4, 5, 6])\n",
        "np.add(x, y)"
      ]
    },
    {
      "cell_type": "markdown",
      "metadata": {
        "id": "EpX7AE60cDJt"
      },
      "source": [
        "## Multidimensional Arrays\n",
        "NumPy arrays are also very useful for storing multidimensional data such as matrices. Notice how NumPy tries to nicely align the elements."
      ]
    },
    {
      "cell_type": "code",
      "execution_count": 12,
      "metadata": {
        "id": "vGbD_Ol-cDJu",
        "outputId": "7208fa28-5025-4de3-8028-6e2ec7bf9164",
        "colab": {
          "base_uri": "https://localhost:8080/"
        }
      },
      "outputs": [
        {
          "output_type": "stream",
          "name": "stdout",
          "text": [
            "<class 'list'>\n"
          ]
        },
        {
          "output_type": "execute_result",
          "data": {
            "text/plain": [
              "[[1, 2], [3, 4]]"
            ]
          },
          "metadata": {},
          "execution_count": 12
        }
      ],
      "source": [
        "# An ordinary nested list\n",
        "y = [[1, 2], [3, 4]]\n",
        "print(type(y))\n",
        "y"
      ]
    },
    {
      "cell_type": "code",
      "execution_count": 13,
      "metadata": {
        "id": "1joVG_97cDJu",
        "outputId": "5492d678-777c-4aec-9738-ac48f40ec541",
        "colab": {
          "base_uri": "https://localhost:8080/"
        }
      },
      "outputs": [
        {
          "output_type": "stream",
          "name": "stdout",
          "text": [
            "<class 'numpy.ndarray'>\n"
          ]
        },
        {
          "output_type": "execute_result",
          "data": {
            "text/plain": [
              "array([[1, 2],\n",
              "       [3, 4]])"
            ]
          },
          "metadata": {},
          "execution_count": 13
        }
      ],
      "source": [
        "# Reformatted as a NumPy array\n",
        "y = np.array([[1, 2], [3, 4]])\n",
        "print(type(y))\n",
        "y"
      ]
    },
    {
      "cell_type": "markdown",
      "metadata": {
        "id": "AmDRihVfcDJu"
      },
      "source": [
        "## The Shape Attribute\n",
        "One of the most important attributes to understand with this is the shape of a NumPy array."
      ]
    },
    {
      "cell_type": "code",
      "execution_count": 14,
      "metadata": {
        "id": "jtGFidPqcDJu",
        "outputId": "076ef7a1-3d04-4636-9982-22d3829df06c",
        "colab": {
          "base_uri": "https://localhost:8080/"
        }
      },
      "outputs": [
        {
          "output_type": "execute_result",
          "data": {
            "text/plain": [
              "(2, 2)"
            ]
          },
          "metadata": {},
          "execution_count": 14
        }
      ],
      "source": [
        "y.shape"
      ]
    },
    {
      "cell_type": "code",
      "execution_count": 15,
      "metadata": {
        "id": "1KFPg5QEcDJu",
        "outputId": "2161f09f-58d1-4363-a895-e73e5eab0e38",
        "colab": {
          "base_uri": "https://localhost:8080/"
        }
      },
      "outputs": [
        {
          "output_type": "stream",
          "name": "stdout",
          "text": [
            "(2, 3)\n"
          ]
        },
        {
          "output_type": "execute_result",
          "data": {
            "text/plain": [
              "array([[1, 2, 3],\n",
              "       [4, 5, 6]])"
            ]
          },
          "metadata": {},
          "execution_count": 15
        }
      ],
      "source": [
        "y = np.array([[1, 2, 3],[4, 5, 6]])\n",
        "print(y.shape)\n",
        "y"
      ]
    },
    {
      "cell_type": "code",
      "execution_count": 16,
      "metadata": {
        "id": "Nqt9PkJtcDJu",
        "outputId": "3fd15725-10e8-4ca6-dcc6-9910f2c49102",
        "colab": {
          "base_uri": "https://localhost:8080/"
        }
      },
      "outputs": [
        {
          "output_type": "stream",
          "name": "stdout",
          "text": [
            "(3, 2)\n"
          ]
        },
        {
          "output_type": "execute_result",
          "data": {
            "text/plain": [
              "array([[1, 2],\n",
              "       [3, 4],\n",
              "       [5, 6]])"
            ]
          },
          "metadata": {},
          "execution_count": 16
        }
      ],
      "source": [
        "y = np.array([[1, 2],[3, 4],[5, 6]])\n",
        "print(y.shape)\n",
        "y"
      ]
    },
    {
      "cell_type": "markdown",
      "metadata": {
        "id": "sxhkFufncDJu"
      },
      "source": [
        "### We can also have higher dimensional data such as working with 3 dimensional data\n",
        "<img src=\"https://curriculum-content.s3.amazonaws.com/data-science/images/Image_195_3D array.png\" width=500>"
      ]
    },
    {
      "cell_type": "code",
      "execution_count": null,
      "metadata": {
        "id": "S6ZCwnOicDJu",
        "outputId": "7a4b654d-4b45-48d6-a89b-b0457e57a74b"
      },
      "outputs": [
        {
          "name": "stdout",
          "output_type": "stream",
          "text": [
            "(2, 3, 2)\n"
          ]
        },
        {
          "data": {
            "text/plain": [
              "array([[[1, 2],\n",
              "        [3, 4],\n",
              "        [5, 6]],\n",
              "\n",
              "       [[1, 2],\n",
              "        [3, 4],\n",
              "        [5, 6]]])"
            ]
          },
          "execution_count": 15,
          "metadata": {},
          "output_type": "execute_result"
        }
      ],
      "source": [
        "y = np.array([[[1, 2],[3, 4],[5, 6]],\n",
        "             [[1, 2],[3, 4],[5, 6]]\n",
        "             ])\n",
        "print(y.shape)\n",
        "y"
      ]
    },
    {
      "cell_type": "markdown",
      "metadata": {
        "id": "1x16Nvd6cDJu"
      },
      "source": [
        "## Built-in Methods for Creating Arrays\n",
        "NumPy also has several built-in methods for creating arrays that are useful in practice. These methods are particularly useful:\n",
        "* `np.zeros(shape)`\n",
        "* `np.ones(shape)`\n",
        "* `np.full(shape, fill)`"
      ]
    },
    {
      "cell_type": "code",
      "execution_count": 17,
      "metadata": {
        "id": "cSwO-OagcDJu",
        "outputId": "70cdc1fe-eaaf-4eec-d469-4df0bfd3bd48",
        "colab": {
          "base_uri": "https://localhost:8080/"
        }
      },
      "outputs": [
        {
          "output_type": "execute_result",
          "data": {
            "text/plain": [
              "array([0., 0., 0., 0., 0.])"
            ]
          },
          "metadata": {},
          "execution_count": 17
        }
      ],
      "source": [
        "# One dimensional; 5 elements\n",
        "np.zeros(5)"
      ]
    },
    {
      "cell_type": "code",
      "source": [
        "np.ones(5)"
      ],
      "metadata": {
        "id": "ng-Or1cjASZu",
        "outputId": "c1ff3bad-540b-42e1-dd1f-cd4a84f7776d",
        "colab": {
          "base_uri": "https://localhost:8080/"
        }
      },
      "execution_count": 18,
      "outputs": [
        {
          "output_type": "execute_result",
          "data": {
            "text/plain": [
              "array([1., 1., 1., 1., 1.])"
            ]
          },
          "metadata": {},
          "execution_count": 18
        }
      ]
    },
    {
      "cell_type": "code",
      "source": [
        "np.full(5, 3)"
      ],
      "metadata": {
        "id": "XG4ufUeaAYeC",
        "outputId": "91ba6e71-cedf-4e64-d377-c5ae1481240a",
        "colab": {
          "base_uri": "https://localhost:8080/"
        }
      },
      "execution_count": 19,
      "outputs": [
        {
          "output_type": "execute_result",
          "data": {
            "text/plain": [
              "array([3, 3, 3, 3, 3])"
            ]
          },
          "metadata": {},
          "execution_count": 19
        }
      ]
    },
    {
      "cell_type": "code",
      "execution_count": 20,
      "metadata": {
        "id": "-Jah_eaDcDJv",
        "outputId": "ca5f1bf7-076f-4a98-a611-cd137b841b91",
        "colab": {
          "base_uri": "https://localhost:8080/"
        }
      },
      "outputs": [
        {
          "output_type": "execute_result",
          "data": {
            "text/plain": [
              "array([[0., 0.],\n",
              "       [0., 0.]])"
            ]
          },
          "metadata": {},
          "execution_count": 20
        }
      ],
      "source": [
        "# Two dimensional; 2x2 matrix\n",
        "np.zeros([2, 2])"
      ]
    },
    {
      "cell_type": "code",
      "execution_count": 21,
      "metadata": {
        "id": "-S7rxrshcDJv",
        "outputId": "8cd6ba26-652c-42c7-a975-cbac0c2231d6",
        "colab": {
          "base_uri": "https://localhost:8080/"
        }
      },
      "outputs": [
        {
          "output_type": "execute_result",
          "data": {
            "text/plain": [
              "array([[0., 0., 0., 0., 0.],\n",
              "       [0., 0., 0., 0., 0.],\n",
              "       [0., 0., 0., 0., 0.]])"
            ]
          },
          "metadata": {},
          "execution_count": 21
        }
      ],
      "source": [
        "# 2 dimensional;  3x5 matrix\n",
        "np.zeros([3, 5])"
      ]
    },
    {
      "cell_type": "code",
      "execution_count": 22,
      "metadata": {
        "id": "bCuLGKiKcDJv",
        "outputId": "8abd050b-57ab-4301-975c-34c07a7aa6f4",
        "colab": {
          "base_uri": "https://localhost:8080/"
        }
      },
      "outputs": [
        {
          "output_type": "execute_result",
          "data": {
            "text/plain": [
              "array([[[0., 0., 0., 0., 0.],\n",
              "        [0., 0., 0., 0., 0.],\n",
              "        [0., 0., 0., 0., 0.],\n",
              "        [0., 0., 0., 0., 0.]],\n",
              "\n",
              "       [[0., 0., 0., 0., 0.],\n",
              "        [0., 0., 0., 0., 0.],\n",
              "        [0., 0., 0., 0., 0.],\n",
              "        [0., 0., 0., 0., 0.]],\n",
              "\n",
              "       [[0., 0., 0., 0., 0.],\n",
              "        [0., 0., 0., 0., 0.],\n",
              "        [0., 0., 0., 0., 0.],\n",
              "        [0., 0., 0., 0., 0.]]])"
            ]
          },
          "metadata": {},
          "execution_count": 22
        }
      ],
      "source": [
        "# 3 dimensional; 3 4x5 matrices\n",
        "np.zeros([3, 4, 5])"
      ]
    },
    {
      "cell_type": "markdown",
      "metadata": {
        "id": "Waw-nOkucDJv"
      },
      "source": [
        "### Similarly the `np.ones()` method returns an array of ones"
      ]
    },
    {
      "cell_type": "code",
      "execution_count": 23,
      "metadata": {
        "id": "Hxqd6KE2cDJv",
        "outputId": "db5d56a1-0628-4345-97fb-6d476edba0de",
        "colab": {
          "base_uri": "https://localhost:8080/"
        }
      },
      "outputs": [
        {
          "output_type": "execute_result",
          "data": {
            "text/plain": [
              "array([1., 1., 1., 1., 1.])"
            ]
          },
          "metadata": {},
          "execution_count": 23
        }
      ],
      "source": [
        "np.ones(5)"
      ]
    },
    {
      "cell_type": "code",
      "execution_count": 24,
      "metadata": {
        "id": "oLKBu4_0cDJv",
        "outputId": "e3279ae7-44c4-4093-89fd-221544721fee",
        "colab": {
          "base_uri": "https://localhost:8080/"
        }
      },
      "outputs": [
        {
          "output_type": "execute_result",
          "data": {
            "text/plain": [
              "array([[1., 1., 1., 1.],\n",
              "       [1., 1., 1., 1.],\n",
              "       [1., 1., 1., 1.]])"
            ]
          },
          "metadata": {},
          "execution_count": 24
        }
      ],
      "source": [
        "np.ones([3, 4])"
      ]
    },
    {
      "cell_type": "markdown",
      "metadata": {
        "id": "F1X3HyjMcDJv"
      },
      "source": [
        "### The `np.full()` method allows you to create an array of arbitrary values"
      ]
    },
    {
      "cell_type": "code",
      "execution_count": 25,
      "metadata": {
        "id": "XsLKYdBfcDJv",
        "outputId": "8ebe5542-3bf3-422a-8755-e3ac10e65f8d",
        "colab": {
          "base_uri": "https://localhost:8080/"
        }
      },
      "outputs": [
        {
          "output_type": "execute_result",
          "data": {
            "text/plain": [
              "array([3, 3, 3, 3, 3])"
            ]
          },
          "metadata": {},
          "execution_count": 25
        }
      ],
      "source": [
        "# Create a 1d array with 5 elements, all of which are 3\n",
        "np.full(5, 3)"
      ]
    },
    {
      "cell_type": "code",
      "execution_count": 26,
      "metadata": {
        "id": "T0stlKpicDJv",
        "outputId": "9edeef0e-4321-4868-8155-1cea61b2d4db",
        "colab": {
          "base_uri": "https://localhost:8080/"
        }
      },
      "outputs": [
        {
          "output_type": "execute_result",
          "data": {
            "text/plain": [
              "array([0, 1, 2, 3, 4])"
            ]
          },
          "metadata": {},
          "execution_count": 26
        }
      ],
      "source": [
        "# Create a 1d array with 5 elements, filling them with the values 0 to 4\n",
        "np.full(5, range(5))"
      ]
    },
    {
      "cell_type": "code",
      "execution_count": 34,
      "metadata": {
        "id": "hCrAcOF-cDJv",
        "outputId": "c6b50da8-ef9f-4600-8e54-31712827e5de",
        "colab": {
          "base_uri": "https://localhost:8080/"
        }
      },
      "outputs": [
        {
          "output_type": "execute_result",
          "data": {
            "text/plain": [
              "array([0, 1, 2, 3, 4, 5, 6, 7, 8, 9])"
            ]
          },
          "metadata": {},
          "execution_count": 34
        }
      ],
      "source": [
        "# Sadly this trick won't work for multidimensional arrays\n",
        "np.full(10, range(10))"
      ]
    },
    {
      "cell_type": "code",
      "execution_count": 35,
      "metadata": {
        "id": "aoAMsPLFcDJv",
        "outputId": "771116bd-a04b-4d95-ed27-282d3852687f",
        "colab": {
          "base_uri": "https://localhost:8080/"
        }
      },
      "outputs": [
        {
          "output_type": "execute_result",
          "data": {
            "text/plain": [
              "array([[3.14159265, 3.14159265, 3.14159265, 3.14159265, 3.14159265],\n",
              "       [3.14159265, 3.14159265, 3.14159265, 3.14159265, 3.14159265]])"
            ]
          },
          "metadata": {},
          "execution_count": 35
        }
      ],
      "source": [
        "# NumPy also has useful built-in mathematical numbers\n",
        "np.full([2, 5], np.pi)"
      ]
    },
    {
      "cell_type": "markdown",
      "metadata": {
        "id": "IPg608qvcDJv"
      },
      "source": [
        "## Numpy array subsetting"
      ]
    },
    {
      "cell_type": "markdown",
      "metadata": {
        "id": "mWV_9LuicDJv"
      },
      "source": [
        "You can subset NumPy arrays very similarly to list slicing in python."
      ]
    },
    {
      "cell_type": "code",
      "execution_count": 36,
      "metadata": {
        "id": "7uZFdafJcDJ5",
        "outputId": "f1c5f304-893a-4a86-b6ee-9180b9909124",
        "colab": {
          "base_uri": "https://localhost:8080/"
        }
      },
      "outputs": [
        {
          "output_type": "stream",
          "name": "stdout",
          "text": [
            "(4, 3)\n"
          ]
        },
        {
          "output_type": "execute_result",
          "data": {
            "text/plain": [
              "array([[ 1,  2,  3],\n",
              "       [ 4,  5,  6],\n",
              "       [ 7,  8,  9],\n",
              "       [10, 11, 12]])"
            ]
          },
          "metadata": {},
          "execution_count": 36
        }
      ],
      "source": [
        "x = np.array([[1, 2, 3], [4, 5, 6], [7, 8, 9], [10, 11, 12]])\n",
        "print(x.shape)\n",
        "x"
      ]
    },
    {
      "cell_type": "code",
      "execution_count": 37,
      "metadata": {
        "id": "3VSsSCW3cDJ5",
        "outputId": "df751194-c6fe-41ef-9591-7340c23435b6",
        "colab": {
          "base_uri": "https://localhost:8080/"
        }
      },
      "outputs": [
        {
          "output_type": "execute_result",
          "data": {
            "text/plain": [
              "array([1, 2, 3])"
            ]
          },
          "metadata": {},
          "execution_count": 37
        }
      ],
      "source": [
        "# Retrieving the first row\n",
        "x[0]"
      ]
    },
    {
      "cell_type": "code",
      "execution_count": 38,
      "metadata": {
        "id": "jSrZiBQQcDJ5",
        "outputId": "f20f492f-d628-478e-d13b-f655f87c06ae",
        "colab": {
          "base_uri": "https://localhost:8080/"
        }
      },
      "outputs": [
        {
          "output_type": "execute_result",
          "data": {
            "text/plain": [
              "array([[ 4,  5,  6],\n",
              "       [ 7,  8,  9],\n",
              "       [10, 11, 12]])"
            ]
          },
          "metadata": {},
          "execution_count": 38
        }
      ],
      "source": [
        "# Retrieving all rows after the first row\n",
        "x[1:]"
      ]
    },
    {
      "cell_type": "code",
      "source": [
        "# Retrieving all rows after the second row\n",
        "x[2:]"
      ],
      "metadata": {
        "id": "gbaXeYHxFcoR",
        "outputId": "0dd4b7d2-f291-4c66-c230-01c709f56c4c",
        "colab": {
          "base_uri": "https://localhost:8080/"
        }
      },
      "execution_count": 41,
      "outputs": [
        {
          "output_type": "execute_result",
          "data": {
            "text/plain": [
              "array([[ 7,  8,  9],\n",
              "       [10, 11, 12]])"
            ]
          },
          "metadata": {},
          "execution_count": 41
        }
      ]
    },
    {
      "cell_type": "markdown",
      "metadata": {
        "id": "ZK5i-vf0cDJ5"
      },
      "source": [
        "### This becomes particularly useful in multidimensional arrays when we can slice on multiple dimensions"
      ]
    },
    {
      "cell_type": "code",
      "execution_count": 39,
      "metadata": {
        "id": "oqpsDE18cDJ5",
        "outputId": "dc87285b-1b2f-4ab1-c19b-c89c88cec3e1",
        "colab": {
          "base_uri": "https://localhost:8080/"
        }
      },
      "outputs": [
        {
          "output_type": "execute_result",
          "data": {
            "text/plain": [
              "array([ 1,  4,  7, 10])"
            ]
          },
          "metadata": {},
          "execution_count": 39
        }
      ],
      "source": [
        "# All rows, column 0\n",
        "x[:,0]"
      ]
    },
    {
      "cell_type": "code",
      "execution_count": 40,
      "metadata": {
        "id": "I_3vG4OycDJ5",
        "outputId": "4656ed62-7e21-4e94-ef11-2e976a7faeb5",
        "colab": {
          "base_uri": "https://localhost:8080/"
        }
      },
      "outputs": [
        {
          "output_type": "execute_result",
          "data": {
            "text/plain": [
              "array([[ 8,  9],\n",
              "       [11, 12]])"
            ]
          },
          "metadata": {},
          "execution_count": 40
        }
      ],
      "source": [
        "# Rows 2 through 4, columns 1 through 3\n",
        "x[2:4,1:3]"
      ]
    },
    {
      "cell_type": "markdown",
      "metadata": {
        "id": "dnhiKnKMcDJ5"
      },
      "source": [
        "### Notice that you can't slice in multiple dimensions naturally with built-in lists"
      ]
    },
    {
      "cell_type": "code",
      "execution_count": 42,
      "metadata": {
        "id": "eHf_agTncDJ5",
        "outputId": "52bf0b35-9c34-44cb-e494-1b136f05c0da",
        "colab": {
          "base_uri": "https://localhost:8080/"
        }
      },
      "outputs": [
        {
          "output_type": "execute_result",
          "data": {
            "text/plain": [
              "[[1, 2, 3], [4, 5, 6], [7, 8, 9], [10, 11, 12]]"
            ]
          },
          "metadata": {},
          "execution_count": 42
        }
      ],
      "source": [
        "x = [[1, 2, 3], [4, 5, 6], [7, 8, 9], [10, 11, 12]]\n",
        "x"
      ]
    },
    {
      "cell_type": "code",
      "execution_count": 43,
      "metadata": {
        "id": "MAUGBLw7cDJ5",
        "outputId": "6e6f3dbb-c339-468f-f182-2f5e17f9b6fc",
        "colab": {
          "base_uri": "https://localhost:8080/"
        }
      },
      "outputs": [
        {
          "output_type": "execute_result",
          "data": {
            "text/plain": [
              "[1, 2, 3]"
            ]
          },
          "metadata": {},
          "execution_count": 43
        }
      ],
      "source": [
        "x[0]"
      ]
    },
    {
      "cell_type": "code",
      "execution_count": 45,
      "metadata": {
        "id": "bQ9HeqB3cDJ5",
        "outputId": "4ac08270-72e2-40a3-9121-f3e66b756143",
        "colab": {
          "base_uri": "https://localhost:8080/",
          "height": 141
        }
      },
      "outputs": [
        {
          "output_type": "error",
          "ename": "TypeError",
          "evalue": "list indices must be integers or slices, not tuple",
          "traceback": [
            "\u001b[0;31m---------------------------------------------------------------------------\u001b[0m",
            "\u001b[0;31mTypeError\u001b[0m                                 Traceback (most recent call last)",
            "\u001b[0;32m<ipython-input-45-956faaf05cb2>\u001b[0m in \u001b[0;36m<cell line: 1>\u001b[0;34m()\u001b[0m\n\u001b[0;32m----> 1\u001b[0;31m \u001b[0mx\u001b[0m\u001b[0;34m[\u001b[0m\u001b[0;36m1\u001b[0m\u001b[0;34m,\u001b[0m \u001b[0;36m2\u001b[0m\u001b[0;34m]\u001b[0m\u001b[0;34m\u001b[0m\u001b[0;34m\u001b[0m\u001b[0m\n\u001b[0m",
            "\u001b[0;31mTypeError\u001b[0m: list indices must be integers or slices, not tuple"
          ]
        }
      ],
      "source": [
        "x[1, 2]"
      ]
    },
    {
      "cell_type": "code",
      "execution_count": 46,
      "metadata": {
        "id": "Ed_t32oEcDJ5",
        "outputId": "c9d646f4-90c1-44fa-df87-787f5266b793",
        "colab": {
          "base_uri": "https://localhost:8080/"
        }
      },
      "outputs": [
        {
          "output_type": "execute_result",
          "data": {
            "text/plain": [
              "[1, 4, 7, 10]"
            ]
          },
          "metadata": {},
          "execution_count": 46
        }
      ],
      "source": [
        "# To slice along a second dimension with lists we must verbosely use a list comprehension\n",
        "[i[0] for i in x]"
      ]
    },
    {
      "cell_type": "code",
      "execution_count": 47,
      "metadata": {
        "id": "8zskLmdmcDJ5",
        "outputId": "f529b556-1486-4312-e36f-a1772b55d753",
        "colab": {
          "base_uri": "https://localhost:8080/"
        }
      },
      "outputs": [
        {
          "output_type": "execute_result",
          "data": {
            "text/plain": [
              "[[8, 9], [11, 12]]"
            ]
          },
          "metadata": {},
          "execution_count": 47
        }
      ],
      "source": [
        "# Doing this in multiple dimensions with lists\n",
        "[i[1:3] for i in x[2:4]]"
      ]
    },
    {
      "cell_type": "markdown",
      "metadata": {
        "id": "v_PkJI_ocDJ5"
      },
      "source": [
        "### 3D Slicing"
      ]
    },
    {
      "cell_type": "code",
      "execution_count": 48,
      "metadata": {
        "id": "0GNinPlGcDJ5",
        "outputId": "81a33a9d-8ebb-4586-f574-2db55a913921",
        "colab": {
          "base_uri": "https://localhost:8080/"
        }
      },
      "outputs": [
        {
          "output_type": "execute_result",
          "data": {
            "text/plain": [
              "array([[[ 1,  2,  3],\n",
              "        [ 4,  5,  6]],\n",
              "\n",
              "       [[ 7,  8,  9],\n",
              "        [10, 11, 12]]])"
            ]
          },
          "metadata": {},
          "execution_count": 48
        }
      ],
      "source": [
        "# With an array\n",
        "x = np.array([\n",
        "              [[1,2,3], [4,5,6]],\n",
        "              [[7,8,9], [10,11,12]]\n",
        "             ])\n",
        "x"
      ]
    },
    {
      "cell_type": "code",
      "execution_count": 49,
      "metadata": {
        "id": "xo4kltUIcDJ6",
        "outputId": "6e608230-5149-4214-8726-6a9b7b67b1dc",
        "colab": {
          "base_uri": "https://localhost:8080/"
        }
      },
      "outputs": [
        {
          "output_type": "execute_result",
          "data": {
            "text/plain": [
              "(2, 2, 3)"
            ]
          },
          "metadata": {},
          "execution_count": 49
        }
      ],
      "source": [
        "x.shape"
      ]
    },
    {
      "cell_type": "code",
      "execution_count": 50,
      "metadata": {
        "id": "l3_cfsZEcDJ6",
        "outputId": "dc3e29e6-5abc-4afa-dbbe-09b4815d6ccb",
        "colab": {
          "base_uri": "https://localhost:8080/"
        }
      },
      "outputs": [
        {
          "output_type": "execute_result",
          "data": {
            "text/plain": [
              "array([[ 3,  6],\n",
              "       [ 9, 12]])"
            ]
          },
          "metadata": {},
          "execution_count": 50
        }
      ],
      "source": [
        "x[:,:,-1]"
      ]
    },
    {
      "cell_type": "markdown",
      "metadata": {
        "id": "RkmLwxR_cDJ6"
      },
      "source": [
        "## Summary\n",
        "\n",
        "Great! You learned about a bunch of NumPy commands. Now, let's move over to the lab to put your new skills into practice!"
      ]
    }
  ],
  "metadata": {
    "kernelspec": {
      "display_name": "Python 3",
      "language": "python",
      "name": "python3"
    },
    "language_info": {
      "codemirror_mode": {
        "name": "ipython",
        "version": 3
      },
      "file_extension": ".py",
      "mimetype": "text/x-python",
      "name": "python",
      "nbconvert_exporter": "python",
      "pygments_lexer": "ipython3",
      "version": "3.7.3"
    },
    "colab": {
      "provenance": [],
      "include_colab_link": true
    }
  },
  "nbformat": 4,
  "nbformat_minor": 0
}