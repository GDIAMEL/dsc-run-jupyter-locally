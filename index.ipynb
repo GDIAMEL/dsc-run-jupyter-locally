{
  "cells": [
    {
      "cell_type": "markdown",
      "metadata": {
        "id": "view-in-github",
        "colab_type": "text"
      },
      "source": [
        "<a href=\"https://colab.research.google.com/github/GDIAMEL/dsc-run-jupyter-locally/blob/main/index.ipynb\" target=\"_parent\"><img src=\"https://colab.research.google.com/assets/colab-badge.svg\" alt=\"Open In Colab\"/></a>"
      ]
    },
    {
      "cell_type": "markdown",
      "metadata": {
        "id": "YTSCvVRbMM3T"
      },
      "source": [
        "# Introduction to Variables: Variable Assignment - Lab"
      ]
    },
    {
      "cell_type": "markdown",
      "metadata": {
        "id": "18pbVO9cMM3V"
      },
      "source": [
        "## Introduction\n",
        "Now that we know about variables, we want to put them to use by associating them with some data.  Here, we will be using variables to store information related to a vacation that we would like to go on.\n",
        "\n",
        "Just as before, we ask you to run the code and ensure that it matches what is commented out."
      ]
    },
    {
      "cell_type": "markdown",
      "metadata": {
        "id": "I84Kkbo8MM3V"
      },
      "source": [
        "## Objectives\n",
        "\n",
        "You will be able to:\n",
        "\n",
        "* Assign and declare a python variable"
      ]
    },
    {
      "cell_type": "markdown",
      "metadata": {
        "id": "j7LyQltbMM3V"
      },
      "source": [
        "## Assigning variables"
      ]
    },
    {
      "cell_type": "markdown",
      "metadata": {
        "id": "LpSa8jeuMM3V"
      },
      "source": [
        "Assign the string \"January\" to the variable `travel_month`, as that is the month we would like to travel."
      ]
    },
    {
      "cell_type": "code",
      "execution_count": 17,
      "metadata": {
        "id": "3IE66k7fMM3V",
        "outputId": "4c032dff-eb3c-478f-dabc-7c04e0ebc5f7",
        "colab": {
          "base_uri": "https://localhost:8080/",
          "height": 35
        }
      },
      "outputs": [
        {
          "output_type": "execute_result",
          "data": {
            "text/plain": [
              "'January'"
            ],
            "application/vnd.google.colaboratory.intrinsic+json": {
              "type": "string"
            }
          },
          "metadata": {},
          "execution_count": 17
        }
      ],
      "source": [
        "travel_month = \"January\"\n",
        "travel_month"
      ]
    },
    {
      "cell_type": "markdown",
      "metadata": {
        "id": "W6E9nzCwMM3W"
      },
      "source": [
        "> We start by setting the variable equal to the data type None.  As we know, `None` represents the absence of a value. Now we can take care of assigning the variable to something other than `None`."
      ]
    },
    {
      "cell_type": "code",
      "execution_count": 3,
      "metadata": {
        "id": "VWFRxoQtMM3W",
        "outputId": "04ad6162-52bb-47b7-f95c-5daa18bd32a7",
        "colab": {
          "base_uri": "https://localhost:8080/",
          "height": 35
        }
      },
      "outputs": [
        {
          "output_type": "execute_result",
          "data": {
            "text/plain": [
              "'January'"
            ],
            "application/vnd.google.colaboratory.intrinsic+json": {
              "type": "string"
            }
          },
          "metadata": {},
          "execution_count": 3
        }
      ],
      "source": [
        "# planning for January as a travel month\n",
        "travel_month # \"January\""
      ]
    },
    {
      "cell_type": "markdown",
      "metadata": {
        "id": "MG7zqikOMM3W"
      },
      "source": [
        "Now let's assign a variable equal to the number of weeks that we would like to travel, 3."
      ]
    },
    {
      "cell_type": "code",
      "execution_count": 11,
      "metadata": {
        "id": "7G0jDnuEMM3W",
        "outputId": "bee81a2c-6432-4405-9ffa-c422c40097de",
        "colab": {
          "base_uri": "https://localhost:8080/",
          "height": 35
        }
      },
      "outputs": [
        {
          "output_type": "execute_result",
          "data": {
            "text/plain": [
              "'3'"
            ],
            "application/vnd.google.colaboratory.intrinsic+json": {
              "type": "string"
            }
          },
          "metadata": {},
          "execution_count": 11
        }
      ],
      "source": [
        "number_of_weeks = '3'\n",
        "number_of_weeks"
      ]
    },
    {
      "cell_type": "code",
      "execution_count": 5,
      "metadata": {
        "id": "g1qatjjnMM3X",
        "outputId": "9a7d8075-0e1c-4d8e-88b3-b78d44896310",
        "colab": {
          "base_uri": "https://localhost:8080/",
          "height": 35
        }
      },
      "outputs": [
        {
          "output_type": "execute_result",
          "data": {
            "text/plain": [
              "'3'"
            ],
            "application/vnd.google.colaboratory.intrinsic+json": {
              "type": "string"
            }
          },
          "metadata": {},
          "execution_count": 5
        }
      ],
      "source": [
        "# planning for a three week travel in january\n",
        "number_of_weeks # 3"
      ]
    },
    {
      "cell_type": "markdown",
      "metadata": {
        "id": "1GFFchbIMM3X"
      },
      "source": [
        "UPDATE: we just learned that we can travel for a longer period of time. So, we need to reassign the `number_of_weeks` variable to 5."
      ]
    },
    {
      "cell_type": "code",
      "execution_count": 8,
      "metadata": {
        "id": "5d0IhDWUMM3X",
        "outputId": "49155d65-47f6-45bb-b68a-7f3952004f50",
        "colab": {
          "base_uri": "https://localhost:8080/",
          "height": 35
        }
      },
      "outputs": [
        {
          "output_type": "execute_result",
          "data": {
            "text/plain": [
              "'5'"
            ],
            "application/vnd.google.colaboratory.intrinsic+json": {
              "type": "string"
            }
          },
          "metadata": {},
          "execution_count": 8
        }
      ],
      "source": [
        "# extending the duration of travelling to 5 weeks\n",
        "number_of_weeks # 5"
      ]
    },
    {
      "cell_type": "markdown",
      "metadata": {
        "id": "d-bts8ZzMM3X"
      },
      "source": [
        "Now that's more like it.\n",
        "\n",
        "Finally, let's create a string that uses both of these variables to tell us how many weeks we will be traveling in our travel month. The string should read `\"I will be traveling 5 weeks starting in the month of January\"`. The process of using one or more variables as placeholders within a larger string is called **string interpolation**.  Interpolate the `num_of_weeks` and `travel_month` to get the correct string.\n",
        "\n",
        "> **Remember:** We can interpolate strings in the following ways:\n",
        "* \"Start of string\" + variable_to_interpolate_1 + \"middle\" + variable_to_interpolate_2 + \"end of string\"\n",
        "* \"Start of string {variable_1} middle {variable_2} end of string\".format(variable_1=variable_to_interpolate, variable_2=variable_to_interpolate)\n",
        "* f\"Start of string {variable_to_interpolate_1} middle {variable_to_interpolate_2} end of string\""
      ]
    },
    {
      "cell_type": "code",
      "execution_count": 9,
      "metadata": {
        "id": "x6VQGFaDMM3X",
        "outputId": "4e5571a5-e286-4af6-e642-cf89b09db92f",
        "colab": {
          "base_uri": "https://localhost:8080/",
          "height": 35
        }
      },
      "outputs": [
        {
          "output_type": "execute_result",
          "data": {
            "text/plain": [
              "'I will be traveling 5 weeks starting in the month of january'"
            ],
            "application/vnd.google.colaboratory.intrinsic+json": {
              "type": "string"
            }
          },
          "metadata": {},
          "execution_count": 9
        }
      ],
      "source": [
        "traveling_schedule = 'January'\n",
        "Number_of_weeks = '5'\n",
        "'I will be traveling 5 weeks starting in the month of january'"
      ]
    },
    {
      "cell_type": "code",
      "source": [
        "type('travelling_schedule')"
      ],
      "metadata": {
        "id": "T1e7Pmh8cEsR",
        "outputId": "6941c9b7-9724-45ea-dd67-df9ca56bf221",
        "colab": {
          "base_uri": "https://localhost:8080/"
        }
      },
      "execution_count": 16,
      "outputs": [
        {
          "output_type": "execute_result",
          "data": {
            "text/plain": [
              "str"
            ]
          },
          "metadata": {},
          "execution_count": 16
        }
      ]
    },
    {
      "cell_type": "code",
      "source": [
        "type(Number_of_weeks)"
      ],
      "metadata": {
        "id": "iVaEx_8dciKy",
        "outputId": "f4ed4a91-8c0b-44d1-aade-1f76c9e2344e",
        "colab": {
          "base_uri": "https://localhost:8080/"
        }
      },
      "execution_count": 14,
      "outputs": [
        {
          "output_type": "execute_result",
          "data": {
            "text/plain": [
              "str"
            ]
          },
          "metadata": {},
          "execution_count": 14
        }
      ]
    },
    {
      "cell_type": "markdown",
      "metadata": {
        "id": "PbTj4A4WMM3X"
      },
      "source": [
        "### Summary"
      ]
    },
    {
      "cell_type": "markdown",
      "metadata": {
        "id": "72vIr3BMMM3X"
      },
      "source": [
        "Great! In this lab, we were able to get some more practice with storing information in variables through assignment and reassignment."
      ]
    }
  ],
  "metadata": {
    "kernelspec": {
      "display_name": "Python (learn-env)",
      "language": "python",
      "name": "learn-env"
    },
    "language_info": {
      "codemirror_mode": {
        "name": "ipython",
        "version": 3
      },
      "file_extension": ".py",
      "mimetype": "text/x-python",
      "name": "python",
      "nbconvert_exporter": "python",
      "pygments_lexer": "ipython3",
      "version": "3.8.5"
    },
    "colab": {
      "provenance": [],
      "include_colab_link": true
    }
  },
  "nbformat": 4,
  "nbformat_minor": 0
}